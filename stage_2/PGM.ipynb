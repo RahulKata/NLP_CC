{
 "cells": [
  {
   "cell_type": "code",
   "execution_count": 74,
   "metadata": {},
   "outputs": [],
   "source": [
    "from pgmpy.factors.discrete import TabularCPD\n",
    "from pgmpy.models import BayesianModel\n",
    "from pgmpy.inference import VariableElimination"
   ]
  },
  {
   "cell_type": "code",
   "execution_count": 75,
   "metadata": {},
   "outputs": [],
   "source": [
    "wc_model = BayesianModel([('Genetics','Performance'),\n",
    "                         ('Practise','Performance'),\n",
    "                         ('Performance','Offer')])"
   ]
  },
  {
   "cell_type": "code",
   "execution_count": 76,
   "metadata": {},
   "outputs": [],
   "source": [
    "genetics_cpd = TabularCPD(variable = 'Genetics',\n",
    "                         variable_card = 2,\n",
    "                         values = [[0.2,0.8]])\n",
    "# varibale_card = number of outcomes"
   ]
  },
  {
   "cell_type": "code",
   "execution_count": 77,
   "metadata": {},
   "outputs": [],
   "source": [
    "practise_cpd = TabularCPD(variable = 'Practise',\n",
    "                         variable_card = 2,\n",
    "                         values = [[0.7,0.3]])"
   ]
  },
  {
   "cell_type": "code",
   "execution_count": 78,
   "metadata": {},
   "outputs": [],
   "source": [
    "wc_trials_cpd = TabularCPD(variable = 'Performance',\n",
    "                      variable_card = 3,\n",
    "                      values = [[0.5,0.8,0.8,0.9],\n",
    "                               [0.3,0.15,0.1,0.08],\n",
    "                               [0.2,0.05,0.1,0.02]],\n",
    "                      evidence = ['Genetics','Practise'],\n",
    "                      evidence_card = [2,2])"
   ]
  },
  {
   "cell_type": "code",
   "execution_count": 79,
   "metadata": {},
   "outputs": [],
   "source": [
    "# evidence == parent\n",
    "offer_cpd = TabularCPD(variable = 'Offer',\n",
    "                      variable_card = 2,\n",
    "                      values = [[0.95,0.8,0.5],\n",
    "                               [0.05,0.2,0.5]],\n",
    "                      evidence = ['Performance'],\n",
    "                      evidence_card = [3])\n"
   ]
  },
  {
   "cell_type": "code",
   "execution_count": 80,
   "metadata": {},
   "outputs": [],
   "source": [
    "# Adding relationship between variables\n",
    "wc_model.add_cpds(genetics_cpd,practise_cpd,wc_trials_cpd,offer_cpd)"
   ]
  },
  {
   "cell_type": "code",
   "execution_count": 81,
   "metadata": {},
   "outputs": [
    {
     "data": {
      "text/plain": [
       "[<TabularCPD representing P(Genetics:2) at 0x2426fdfff08>,\n",
       " <TabularCPD representing P(Practise:2) at 0x2426fe55dc8>,\n",
       " <TabularCPD representing P(Performance:3 | Genetics:2, Practise:2) at 0x2426fe5f548>,\n",
       " <TabularCPD representing P(Offer:2 | Performance:3) at 0x2426fe5f9c8>]"
      ]
     },
     "execution_count": 81,
     "metadata": {},
     "output_type": "execute_result"
    }
   ],
   "source": [
    "# Structure of the above graph\n",
    "wc_model.get_cpds()"
   ]
  },
  {
   "cell_type": "markdown",
   "metadata": {},
   "source": [
    "Two nodes (variables) in a Bayes net are on an active trail if a change in one node affects the other."
   ]
  },
  {
   "cell_type": "code",
   "execution_count": 82,
   "metadata": {},
   "outputs": [
    {
     "data": {
      "text/plain": [
       "{'Genetics': {'Genetics', 'Offer', 'Performance'}}"
      ]
     },
     "execution_count": 82,
     "metadata": {},
     "output_type": "execute_result"
    }
   ],
   "source": [
    "wc_model.active_trail_nodes('Genetics')"
   ]
  },
  {
   "cell_type": "code",
   "execution_count": 83,
   "metadata": {},
   "outputs": [
    {
     "data": {
      "text/plain": [
       "(Genetics _|_ Practise)"
      ]
     },
     "execution_count": 83,
     "metadata": {},
     "output_type": "execute_result"
    }
   ],
   "source": [
    "wc_model.local_independencies('Genetics')"
   ]
  },
  {
   "cell_type": "code",
   "execution_count": 84,
   "metadata": {},
   "outputs": [
    {
     "data": {
      "text/plain": [
       "(Genetics _|_ Practise)\n",
       "(Genetics _|_ Offer | Performance)\n",
       "(Genetics _|_ Offer | Performance, Practise)\n",
       "(Practise _|_ Genetics)\n",
       "(Practise _|_ Offer | Performance)\n",
       "(Practise _|_ Offer | Performance, Genetics)\n",
       "(Offer _|_ Genetics, Practise | Performance)\n",
       "(Offer _|_ Practise | Performance, Genetics)\n",
       "(Offer _|_ Genetics | Performance, Practise)"
      ]
     },
     "execution_count": 84,
     "metadata": {},
     "output_type": "execute_result"
    }
   ],
   "source": [
    "wc_model.get_independencies()"
   ]
  },
  {
   "cell_type": "code",
   "execution_count": 85,
   "metadata": {},
   "outputs": [],
   "source": [
    "wc_infer = VariableElimination(wc_model)"
   ]
  },
  {
   "cell_type": "code",
   "execution_count": 87,
   "metadata": {},
   "outputs": [
    {
     "name": "stderr",
     "output_type": "stream",
     "text": [
      "Finding Elimination Order: : 100%|█████████████████████████████████████████████████████| 3/3 [00:00<00:00, 1503.51it/s]\n",
      "Eliminating: Practise: 100%|████████████████████████████████████████████████████████████| 3/3 [00:00<00:00, 750.59it/s]\n"
     ]
    },
    {
     "name": "stdout",
     "output_type": "stream",
     "text": [
      "+----------+--------------+\n",
      "| Offer    |   phi(Offer) |\n",
      "+==========+==============+\n",
      "| Offer(0) |       0.8898 |\n",
      "+----------+--------------+\n",
      "| Offer(1) |       0.1102 |\n",
      "+----------+--------------+\n"
     ]
    }
   ],
   "source": [
    "prob_offer = wc_infer.query(variables = ['Offer'])\n",
    "print(prob_offer)"
   ]
  },
  {
   "cell_type": "code",
   "execution_count": 92,
   "metadata": {},
   "outputs": [
    {
     "name": "stderr",
     "output_type": "stream",
     "text": [
      "Finding Elimination Order: : 100%|█████████████████████████████████████████████████████| 2/2 [00:00<00:00, 2006.36it/s]\n",
      "Eliminating: Practise: 100%|████████████████████████████████████████████████████████████| 2/2 [00:00<00:00, 569.57it/s]\n"
     ]
    },
    {
     "name": "stdout",
     "output_type": "stream",
     "text": [
      "+----------+--------------+\n",
      "| Offer    |   phi(Offer) |\n",
      "+==========+==============+\n",
      "| Offer(0) |       0.8420 |\n",
      "+----------+--------------+\n",
      "| Offer(1) |       0.1580 |\n",
      "+----------+--------------+\n"
     ]
    }
   ],
   "source": [
    "prob_offer_good_genes = wc_infer.query(variables = ['Offer'],\n",
    "                                      evidence = {'Genetics':0})\n",
    "print(prob_offer_good_genes)"
   ]
  },
  {
   "cell_type": "code",
   "execution_count": null,
   "metadata": {},
   "outputs": [],
   "source": []
  }
 ],
 "metadata": {
  "kernelspec": {
   "display_name": "Python 3",
   "language": "python",
   "name": "python3"
  },
  "language_info": {
   "codemirror_mode": {
    "name": "ipython",
    "version": 3
   },
   "file_extension": ".py",
   "mimetype": "text/x-python",
   "name": "python",
   "nbconvert_exporter": "python",
   "pygments_lexer": "ipython3",
   "version": "3.7.4"
  }
 },
 "nbformat": 4,
 "nbformat_minor": 4
}
