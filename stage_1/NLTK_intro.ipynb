{
 "cells": [
  {
   "cell_type": "code",
   "execution_count": 15,
   "metadata": {},
   "outputs": [],
   "source": [
    "from nltk.tokenize import word_tokenize\n",
    "from nltk.text import Text\n",
    "from nltk.util import ngrams\n",
    "import nltk"
   ]
  },
  {
   "cell_type": "code",
   "execution_count": 2,
   "metadata": {},
   "outputs": [
    {
     "data": {
      "text/plain": [
       "['two', 'plus', 'two', 'is', 'four', ',', 'minus', 'one', 'that', \"'s\"]"
      ]
     },
     "execution_count": 2,
     "metadata": {},
     "output_type": "execute_result"
    }
   ],
   "source": [
    "my_string = \"Two plus two is four, minus one that's three — quick maths. Every day man's on the block. Smoke trees. See your girl in the park, that girl is an uckers. When the thing went quack quack quack, your men were ducking! Hold tight Asznee, my brother. He's got a pumpy. Hold tight my man, my guy. He's got a frisbee. I trap, trap, trap on the phone. Moving that cornflakes, rice crispies. Hold tight my girl Whitney.\"\n",
    "tokens = word_tokenize(my_string)\n",
    "tokens = [word.lower() for word in tokens]\n",
    "tokens[:10]"
   ]
  },
  {
   "cell_type": "code",
   "execution_count": 3,
   "metadata": {},
   "outputs": [
    {
     "data": {
      "text/plain": [
       "102"
      ]
     },
     "execution_count": 3,
     "metadata": {},
     "output_type": "execute_result"
    }
   ],
   "source": [
    "len(tokens)"
   ]
  },
  {
   "cell_type": "code",
   "execution_count": 6,
   "metadata": {},
   "outputs": [
    {
     "data": {
      "text/plain": [
       "nltk.text.Text"
      ]
     },
     "execution_count": 6,
     "metadata": {},
     "output_type": "execute_result"
    }
   ],
   "source": [
    "text = Text(tokens)\n",
    "type(text)"
   ]
  },
  {
   "cell_type": "code",
   "execution_count": 5,
   "metadata": {},
   "outputs": [
    {
     "data": {
      "text/plain": [
       "3"
      ]
     },
     "execution_count": 5,
     "metadata": {},
     "output_type": "execute_result"
    }
   ],
   "source": [
    "text.count('quack')"
   ]
  },
  {
   "cell_type": "code",
   "execution_count": 10,
   "metadata": {},
   "outputs": [
    {
     "name": "stdout",
     "output_type": "stream",
     "text": [
      "Displaying 3 of 3 matches:\n",
      "l is an uckers . when the thing went quack quack quack , your men were ducking \n",
      "n uckers . when the thing went quack quack quack , your men were ducking ! hold\n",
      "rs . when the thing went quack quack quack , your men were ducking ! hold tight\n"
     ]
    }
   ],
   "source": [
    "text.concordance('quack')"
   ]
  },
  {
   "cell_type": "code",
   "execution_count": 11,
   "metadata": {},
   "outputs": [
    {
     "name": "stdout",
     "output_type": "stream",
     "text": [
      "guy\n"
     ]
    }
   ],
   "source": [
    "text.similar('brother')"
   ]
  },
  {
   "cell_type": "code",
   "execution_count": 12,
   "metadata": {},
   "outputs": [
    {
     "name": "stdout",
     "output_type": "stream",
     "text": [
      "56 \n",
      "\n",
      "[('.', 11), (',', 8), (\"'s\", 4), ('the', 4), ('my', 4), ('that', 3), ('girl', 3), ('quack', 3), ('hold', 3), ('tight', 3), ('trap', 3), ('two', 2), ('is', 2), ('man', 2), ('on', 2)]\n"
     ]
    }
   ],
   "source": [
    "vocab = nltk.FreqDist(text)\n",
    "print(len(vocab),\"\\n\")\n",
    "print(vocab.most_common(15))"
   ]
  },
  {
   "cell_type": "code",
   "execution_count": 13,
   "metadata": {
    "jupyter": {
     "source_hidden": true
    }
   },
   "outputs": [],
   "source": [
    "import matplotlib.pyplot as plt\n",
    "from matplotlib import style\n",
    "\n",
    "style.use('fivethirtyeight')"
   ]
  },
  {
   "cell_type": "code",
   "execution_count": 16,
   "metadata": {},
   "outputs": [
    {
     "data": {
      "image/png": "[encoded data removed]",
      "text/plain": [
       "<Figure size 432x288 with 1 Axes>"
      ]
     },
     "metadata": {},
     "output_type": "display_data"
    }
   ],
   "source": [
    "text.plot(15) # plots 15 most common tokens"
   ]
  },
  {
   "cell_type": "code",
   "execution_count": 12,
   "metadata": {
    "collapsed": true,
    "jupyter": {
     "outputs_hidden": true
    }
   },
   "outputs": [
    {
     "name": "stdout",
     "output_type": "stream",
     "text": [
      "('two', 'plus')\n",
      "('plus', 'two')\n",
      "('two', 'is')\n",
      "('is', 'four')\n",
      "('four', ',')\n",
      "(',', 'minus')\n",
      "('minus', 'one')\n",
      "('one', 'that')\n",
      "('that', \"'s\")\n",
      "(\"'s\", 'three')\n",
      "('three', '—')\n",
      "('—', 'quick')\n",
      "('quick', 'maths')\n",
      "('maths', '.')\n",
      "('.', 'every')\n",
      "('every', 'day')\n",
      "('day', 'man')\n",
      "('man', \"'s\")\n",
      "(\"'s\", 'on')\n",
      "('on', 'the')\n",
      "('the', 'block')\n",
      "('block', '.')\n",
      "('.', 'smoke')\n",
      "('smoke', 'trees')\n",
      "('trees', '.')\n",
      "('.', 'see')\n",
      "('see', 'your')\n",
      "('your', 'girl')\n",
      "('girl', 'in')\n",
      "('in', 'the')\n",
      "('the', 'park')\n",
      "('park', ',')\n",
      "(',', 'that')\n",
      "('that', 'girl')\n",
      "('girl', 'is')\n",
      "('is', 'an')\n",
      "('an', 'uckers')\n",
      "('uckers', '.')\n",
      "('.', 'when')\n",
      "('when', 'the')\n",
      "('the', 'thing')\n",
      "('thing', 'went')\n",
      "('went', 'quack')\n",
      "('quack', 'quack')\n",
      "('quack', 'quack')\n",
      "('quack', ',')\n",
      "(',', 'your')\n",
      "('your', 'men')\n",
      "('men', 'were')\n",
      "('were', 'ducking')\n",
      "('ducking', '!')\n",
      "('!', 'hold')\n",
      "('hold', 'tight')\n",
      "('tight', 'asznee')\n",
      "('asznee', ',')\n",
      "(',', 'my')\n",
      "('my', 'brother')\n",
      "('brother', '.')\n",
      "('.', 'he')\n",
      "('he', \"'s\")\n",
      "(\"'s\", 'got')\n",
      "('got', 'a')\n",
      "('a', 'pumpy')\n",
      "('pumpy', '.')\n",
      "('.', 'hold')\n",
      "('hold', 'tight')\n",
      "('tight', 'my')\n",
      "('my', 'man')\n",
      "('man', ',')\n",
      "(',', 'my')\n",
      "('my', 'guy')\n",
      "('guy', '.')\n",
      "('.', 'he')\n",
      "('he', \"'s\")\n",
      "(\"'s\", 'got')\n",
      "('got', 'a')\n",
      "('a', 'frisbee')\n",
      "('frisbee', '.')\n",
      "('.', 'i')\n",
      "('i', 'trap')\n",
      "('trap', ',')\n",
      "(',', 'trap')\n",
      "('trap', ',')\n",
      "(',', 'trap')\n",
      "('trap', 'on')\n",
      "('on', 'the')\n",
      "('the', 'phone')\n",
      "('phone', '.')\n",
      "('.', 'moving')\n",
      "('moving', 'that')\n",
      "('that', 'cornflakes')\n",
      "('cornflakes', ',')\n",
      "(',', 'rice')\n",
      "('rice', 'crispies')\n",
      "('crispies', '.')\n",
      "('.', 'hold')\n",
      "('hold', 'tight')\n",
      "('tight', 'my')\n",
      "('my', 'girl')\n",
      "('girl', 'whitney')\n",
      "('whitney', '.')\n"
     ]
    }
   ],
   "source": [
    "Bigrams = ngrams(text, 2)\n",
    "for i in Bigrams:\n",
    "    print(i)"
   ]
  },
  {
   "cell_type": "markdown",
   "metadata": {},
   "source": [
    "---\n",
    "\n",
    "## A sample corpus"
   ]
  },
  {
   "cell_type": "code",
   "execution_count": 26,
   "metadata": {},
   "outputs": [
    {
     "name": "stdout",
     "output_type": "stream",
     "text": [
      "['austen-emma.txt', 'austen-persuasion.txt', 'austen-sense.txt', 'bible-kjv.txt', 'blake-poems.txt', 'bryant-stories.txt', 'burgess-busterbrown.txt', 'carroll-alice.txt', 'chesterton-ball.txt', 'chesterton-brown.txt', 'chesterton-thursday.txt', 'edgeworth-parents.txt', 'melville-moby_dick.txt', 'milton-paradise.txt', 'shakespeare-caesar.txt', 'shakespeare-hamlet.txt', 'shakespeare-macbeth.txt', 'whitman-leaves.txt'] \n",
      "\n",
      "37360 \n",
      "\n",
      "3106 \n",
      "\n",
      "['What', 'say', 'you', '?'] \n",
      "\n",
      "950\n"
     ]
    }
   ],
   "source": [
    "from nltk.corpus import gutenberg\n",
    "\n",
    "print(gutenberg.fileids(),\"\\n\")\n",
    "hamlet = gutenberg.words('shakespeare-hamlet.txt')\n",
    "print(len(hamlet),'\\n')\n",
    "hamlet_sentences = gutenberg.sents('shakespeare-hamlet.txt')\n",
    "print(len(hamlet_sentences),'\\n')\n",
    "print(hamlet_sentences[1024],'\\n')\n",
    "print(len(gutenberg.paras('shakespeare-hamlet.txt')))"
   ]
  },
  {
   "cell_type": "code",
   "execution_count": 35,
   "metadata": {},
   "outputs": [
    {
     "name": "stdout",
     "output_type": "stream",
     "text": [
      "5447 \n",
      "\n",
      "[(',', 2892), ('.', 1886), ('the', 860), (\"'\", 729), ('and', 606), ('of', 576), ('to', 576), (':', 565), ('I', 553), ('you', 479), ('?', 459), ('a', 449), ('my', 435), ('in', 359), ('it', 354), ('Ham', 337), ('is', 304), (';', 298), ('not', 286), ('his', 266)]\n"
     ]
    }
   ],
   "source": [
    "vocab = nltk.FreqDist(hamlet)\n",
    "print(len(vocab),\"\\n\")\n",
    "print(vocab.most_common(20))"
   ]
  },
  {
   "cell_type": "code",
   "execution_count": 37,
   "metadata": {},
   "outputs": [
    {
     "name": "stdout",
     "output_type": "stream",
     "text": [
      "[('that', 257), ('your', 233), ('this', 232), ('with', 212), ('Lord', 211), ('King', 172), ('haue', 161), ('will', 131), ('That', 120), ('what', 116), ('shall', 104), ('Hamlet', 99), ('What', 95), ('thou', 93), ('more', 83), ('Enter', 82), ('from', 80), ('good', 76), ('then', 75), ('like', 73), ('they', 72), ('come', 70), ('know', 70), ('them', 67), ('there', 66), ('selfe', 66), ('most', 65), ('would', 60), ('well', 60), ('Laer', 60), ('thee', 58), ('Ophe', 56), ('must', 53), ('should', 52)]\n"
     ]
    }
   ],
   "source": [
    "mc = sorted([w for w in vocab.most_common(100) if len(w[0]) > 3], key=lambda x: x[1], reverse=True)\n",
    "print(mc)"
   ]
  },
  {
   "cell_type": "code",
   "execution_count": 16,
   "metadata": {},
   "outputs": [
    {
     "ename": "NameError",
     "evalue": "name 'hamlet' is not defined",
     "output_type": "error",
     "traceback": [
      "\u001b[1;31m---------------------------------------------------------------------------\u001b[0m",
      "\u001b[1;31mNameError\u001b[0m                                 Traceback (most recent call last)",
      "\u001b[1;32m<ipython-input-16-4a9bb4f1c22c>\u001b[0m in \u001b[0;36m<module>\u001b[1;34m\u001b[0m\n\u001b[1;32m----> 1\u001b[1;33m \u001b[0mhamlet\u001b[0m \u001b[1;33m=\u001b[0m \u001b[0mText\u001b[0m\u001b[1;33m(\u001b[0m\u001b[0mhamlet\u001b[0m\u001b[1;33m)\u001b[0m\u001b[1;33m\u001b[0m\u001b[1;33m\u001b[0m\u001b[0m\n\u001b[0m\u001b[0;32m      2\u001b[0m \u001b[0mhamlet\u001b[0m\u001b[1;33m.\u001b[0m\u001b[0mdispersion_plot\u001b[0m\u001b[1;33m(\u001b[0m\u001b[1;33m[\u001b[0m\u001b[1;34m'Hamlet'\u001b[0m\u001b[1;33m,\u001b[0m \u001b[1;34m'Ophe'\u001b[0m\u001b[1;33m,\u001b[0m \u001b[1;34m'Laer'\u001b[0m\u001b[1;33m]\u001b[0m\u001b[1;33m)\u001b[0m\u001b[1;33m\u001b[0m\u001b[1;33m\u001b[0m\u001b[0m\n",
      "\u001b[1;31mNameError\u001b[0m: name 'hamlet' is not defined"
     ]
    }
   ],
   "source": [
    "hamlet = Text(hamlet)\n",
    "hamlet.dispersion_plot(['Hamlet', 'Ophe', 'Laer'])"
   ]
  }
 ],
 "metadata": {
  "kernelspec": {
   "display_name": "Python 3",
   "language": "python",
   "name": "python3"
  },
  "language_info": {
   "codemirror_mode": {
    "name": "ipython",
    "version": 3
   },
   "file_extension": ".py",
   "mimetype": "text/x-python",
   "name": "python",
   "nbconvert_exporter": "python",
   "pygments_lexer": "ipython3",
   "version": "3.7.4"
  }
 },
 "nbformat": 4,
 "nbformat_minor": 4
}
